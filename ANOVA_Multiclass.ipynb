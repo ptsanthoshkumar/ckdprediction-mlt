{
  "cells": [
    {
      "cell_type": "code",
      "execution_count": null,
      "metadata": {
        "id": "MnfdkcGHR22u"
      },
      "outputs": [],
      "source": [
        "import warnings\n",
        "warnings.filterwarnings('ignore')"
      ]
    },
    {
      "cell_type": "markdown",
      "metadata": {
        "id": "Y5jRGJevSEMz"
      },
      "source": [
        "# Preprocessing"
      ]
    },
    {
      "cell_type": "code",
      "execution_count": null,
      "metadata": {
        "id": "v7R4xyETR49y"
      },
      "outputs": [],
      "source": [
        "import pandas as pd\n",
        "import numpy as np\n",
        "from sklearn.preprocessing import LabelEncoder, StandardScaler\n",
        "from sklearn.tree import DecisionTreeClassifier\n",
        "from sklearn.metrics import classification_report, confusion_matrix\n",
        "from sklearn.model_selection import train_test_split\n",
        "from sklearn.feature_selection import RFECV\n",
        "from sklearn.model_selection import cross_val_score\n",
        "\n",
        "# Load the CKD dataset\n",
        "df = pd.read_csv('/content/drive/MyDrive/Dataset Folder/mcdx.csv')\n",
        "df = df.drop('race',axis=1)\n",
        "\n",
        "# Convert nominal features to numerical using label encoding\n",
        "le = LabelEncoder()\n",
        "column_names=['age', 'bp', 'sg', 'al', 'su', 'rbc', 'pc', 'pcc', 'ba', 'bgr', 'bu', 'sc', 'sod', 'pot', 'hemo', 'pcv', 'wbcc', 'rbcc', 'htn', 'dm', 'cad', 'appet', 'pe', 'ane']\n",
        "num_cols = ['age', 'bp', 'sg', 'al', 'su', 'bgr', 'bu', 'sc', 'sod', 'pot', 'hemo', 'pcv', 'rbcc']\n",
        "for col in num_cols:\n",
        "    df[col] = df[col].fillna(df[col].median())\n",
        "\n",
        "# Fill missing values with mode for nominal features\n",
        "nom_cols = ['rbc', 'pc', 'pcc', 'htn', 'dm', 'cad', 'appet', 'pe', 'ane']\n",
        "for col in nom_cols:\n",
        "    df[col] = df[col].fillna(df[col].mode()[0])\n",
        "\n",
        "# Convert all values in 'sex' feature to male or female\n",
        "df['sex'] = df['sex'].replace([' ', 'm ', '0'], 'male')\n",
        "df['sex'] = df['sex'].apply(lambda x: 'female' if x != 'male' else x)\n",
        "df['sex'] = le.fit_transform(df['sex'])\n",
        "\n",
        "# Convert nominal features to numerical using label encoding\n",
        "le = LabelEncoder()\n",
        "for col in nom_cols:\n",
        "    df[col] = le.fit_transform(df[col])\n",
        "scaler = StandardScaler()\n",
        "df[num_cols] = scaler.fit_transform(df[num_cols])"
      ]
    },
    {
      "cell_type": "markdown",
      "metadata": {
        "id": "gH6Jn-d6SG-3"
      },
      "source": [
        "# Decision Tree with ANOVA"
      ]
    },
    {
      "cell_type": "code",
      "execution_count": null,
      "metadata": {
        "id": "xRIksYPhOZSL",
        "colab": {
          "base_uri": "https://localhost:8080/"
        },
        "outputId": "fda28a92-03a0-44e5-b1eb-dc5ebcb712be"
      },
      "outputs": [
        {
          "output_type": "stream",
          "name": "stdout",
          "text": [
            "Selected features:  Index(['age', 'al', 'rbc', 'pc', 'bu', 'sc', 'sod', 'hemo', 'pcv', 'rbcc',\n",
            "       'htn', 'dm', 'appet', 'pe', 'ane'],\n",
            "      dtype='object')\n",
            "Accuracy score: 0.825000\n",
            "Precision: 0.846043\n",
            "Recall: 0.825000\n",
            "F1 score: 0.829187\n"
          ]
        }
      ],
      "source": [
        "from sklearn.feature_selection import f_classif, SelectKBest\n",
        "import pandas as pd\n",
        "import numpy as np\n",
        "from sklearn.model_selection import train_test_split, GridSearchCV\n",
        "from sklearn.metrics import accuracy_score, precision_score, recall_score, f1_score\n",
        "# Separate features and target\n",
        "X = pd.DataFrame(df.drop('class', axis=1))\n",
        "y = pd.DataFrame(df['class'])\n",
        "\n",
        "\n",
        "\n",
        "# Use ANOVA to perform feature selection\n",
        "k = 15  # Number of features to select\n",
        "anova_selector = SelectKBest(score_func=f_classif, k=k)\n",
        "X_anova = anova_selector.fit_transform(X, y.values.ravel())\n",
        "\n",
        "# Print the selected features\n",
        "selected_features = X.columns[anova_selector.get_support()]\n",
        "print(\"Selected features: \", selected_features)\n",
        "\n",
        "# Split the data into training and testing sets\n",
        "X_train, X_test, y_train, y_test = train_test_split(X_anova, y, test_size=0.3, random_state=0)\n",
        "\n",
        "# Initialize decision tree classifier\n",
        "dtc = DecisionTreeClassifier()\n",
        "\n",
        "# Rectify overfitting using grid search and cross-validation\n",
        "param_grid = {\n",
        "    'criterion': ['gini', 'entropy'],\n",
        "    'max_depth': [5, 10, 15, 20],\n",
        "    'min_samples_split': [2, 5, 10],\n",
        "    'min_samples_leaf': [1, 2, 4]\n",
        "}\n",
        "grid_search = GridSearchCV(estimator=dtc, param_grid=param_grid, cv=5)\n",
        "grid_search.fit(X_train, y_train.values.ravel())\n",
        "\n",
        "# Make predictions using the test set\n",
        "y_pred = grid_search.predict(X_test)\n",
        "\n",
        "# Calculate accuracy score\n",
        "accuracy = accuracy_score(y_test, y_pred)\n",
        "print(\"Accuracy score: {:.6f}\".format(accuracy))\n",
        "\n",
        "# Calculate precision\n",
        "precision = precision_score(y_test, y_pred, average='weighted')\n",
        "print(\"Precision: {:.6f}\".format(precision))\n",
        "\n",
        "# Calculate recall\n",
        "recall = recall_score(y_test, y_pred, average='weighted')\n",
        "print(\"Recall: {:.6f}\".format(recall))\n",
        "\n",
        "# Calculate F1 score\n",
        "f1 = f1_score(y_test, y_pred, average='weighted')\n",
        "print(\"F1 score: {:.6f}\".format(f1))"
      ]
    },
    {
      "cell_type": "markdown",
      "metadata": {
        "id": "2qnh00jYRzb0"
      },
      "source": [
        "# SVM with ANOVA"
      ]
    },
    {
      "cell_type": "code",
      "execution_count": null,
      "metadata": {
        "colab": {
          "base_uri": "https://localhost:8080/"
        },
        "id": "inPSQEZrSO0v",
        "outputId": "5292fb9b-f720-4b64-80c9-93b00fec45ef"
      },
      "outputs": [
        {
          "output_type": "stream",
          "name": "stdout",
          "text": [
            "Best hyperparameters: {'C': 10, 'gamma': 0.1, 'kernel': 'linear'}\n",
            "Accuracy: 0.705\n",
            "Precision: 0.5244452916218192\n",
            "Recall: 0.5251570325099737\n",
            "F1 Score: 0.5115014467070819\n"
          ]
        }
      ],
      "source": [
        "from sklearn.svm import SVC\n",
        "from sklearn.feature_selection import SelectKBest, f_classif\n",
        "from sklearn.model_selection import cross_validate\n",
        "\n",
        "# Separate features and target\n",
        "X = pd.DataFrame(df.drop('class', axis=1))\n",
        "y = pd.DataFrame(df['class'])\n",
        "\n",
        "# Perform ANOVA F-value feature selection\n",
        "k_best = SelectKBest(score_func=f_classif, k=15)\n",
        "k_best.fit(X, y)\n",
        "\n",
        "# Get the selected features\n",
        "X_k_best = X.loc[:, k_best.get_support()]\n",
        "\n",
        "# Define the grid of hyperparameters to search\n",
        "param_grid = {\n",
        "    'C': [0.1, 1, 10],\n",
        "    'gamma': [0.1, 1, 10],\n",
        "    'kernel': ['linear', 'rbf','sigmoid']\n",
        "}\n",
        "\n",
        "# Initialize SVM classifier\n",
        "svm_tuned = SVC()\n",
        "\n",
        "# Initialize grid search object\n",
        "grid_search = GridSearchCV(estimator=svm_tuned, param_grid=param_grid, cv=5)\n",
        "\n",
        "# Fit grid search object to the data\n",
        "grid_search.fit(X_k_best, y)\n",
        "\n",
        "# Print best hyperparameters\n",
        "print(\"Best hyperparameters:\", grid_search.best_params_)\n",
        "\n",
        "# Initialize SVM classifier with best hyperparameters\n",
        "svm_tuned = SVC(C=grid_search.best_params_['C'],\n",
        "                gamma=grid_search.best_params_['gamma'],\n",
        "                kernel=grid_search.best_params_['kernel'])\n",
        "\n",
        "# Perform cross-validation and get evaluation metrics\n",
        "scores = cross_validate(svm_tuned, X_k_best, y, cv=5, scoring=('accuracy', 'precision_macro', 'recall_macro', 'f1_macro'))\n",
        "\n",
        "# Print evaluation metrics\n",
        "print(\"Accuracy:\", np.mean(scores['test_accuracy']))\n",
        "print(\"Precision:\", np.mean(scores['test_precision_macro']))\n",
        "print(\"Recall:\", np.mean(scores['test_recall_macro']))\n",
        "print(\"F1 Score:\", np.mean(scores['test_f1_macro']))\n"
      ]
    },
    {
      "cell_type": "markdown",
      "metadata": {
        "id": "INP7f5K_SPl2"
      },
      "source": [
        "# RF with ANOVA"
      ]
    },
    {
      "cell_type": "code",
      "execution_count": null,
      "metadata": {
        "colab": {
          "base_uri": "https://localhost:8080/"
        },
        "id": "B7J4kjDwS0J1",
        "outputId": "ff27a8a4-c2dd-4764-ef7d-a60f295ac34f"
      },
      "outputs": [
        {
          "output_type": "stream",
          "name": "stdout",
          "text": [
            "Selected features:  Index(['age', 'al', 'rbc', 'pc', 'bu', 'sc', 'sod', 'hemo', 'pcv', 'rbcc',\n",
            "       'htn', 'dm', 'appet', 'pe', 'ane'],\n",
            "      dtype='object')\n",
            "Best hyperparameters: {'max_depth': 20, 'min_samples_leaf': 1, 'min_samples_split': 5, 'n_estimators': 200}\n",
            "Accuracy score: 0.850000\n",
            "Precision: 0.847803\n",
            "Recall: 0.850000\n",
            "F1 score: 0.846425\n"
          ]
        }
      ],
      "source": [
        "from sklearn.feature_selection import f_classif, SelectKBest\n",
        "import pandas as pd\n",
        "import numpy as np\n",
        "from sklearn.model_selection import train_test_split, GridSearchCV\n",
        "from sklearn.metrics import accuracy_score, precision_score, recall_score, f1_score\n",
        "from sklearn.ensemble import RandomForestClassifier\n",
        "\n",
        "# Separate features and target\n",
        "X = pd.DataFrame(df.drop('class', axis=1))\n",
        "y = pd.DataFrame(df['class'])\n",
        "\n",
        "\n",
        "\n",
        "# Use ANOVA to perform feature selection\n",
        "k = 15  # Number of features to select\n",
        "anova_selector = SelectKBest(score_func=f_classif, k=k)\n",
        "X_anova = anova_selector.fit_transform(X, y.values.ravel())\n",
        "\n",
        "# Print the selected features\n",
        "selected_features = X.columns[anova_selector.get_support()]\n",
        "print(\"Selected features: \", selected_features)\n",
        "\n",
        "# Split the data into training and testing sets\n",
        "X_train, X_test, y_train, y_test = train_test_split(X_anova, y, test_size=0.3, random_state=0)\n",
        "\n",
        "# Define the grid of hyperparameters to search\n",
        "param_grid = {\n",
        "    'n_estimators': [100, 200, 300],\n",
        "    'max_depth': [5, 10, 15, 20],\n",
        "    'min_samples_split': [2, 5, 10],\n",
        "    'min_samples_leaf': [1, 2, 4]\n",
        "}\n",
        "\n",
        "# Initialize random forest classifier\n",
        "rfc = RandomForestClassifier()\n",
        "\n",
        "# Initialize grid search object\n",
        "grid_search = GridSearchCV(estimator=rfc, param_grid=param_grid, cv=5)\n",
        "\n",
        "# Fit grid search object to the data\n",
        "grid_search.fit(X_train, y_train)\n",
        "\n",
        "# Print best hyperparameters\n",
        "print(\"Best hyperparameters:\", grid_search.best_params_)\n",
        "\n",
        "# Initialize random forest classifier with best hyperparameters\n",
        "rfc_tuned = RandomForestClassifier(n_estimators=grid_search.best_params_['n_estimators'],\n",
        "                                    max_depth=grid_search.best_params_['max_depth'],\n",
        "                                    min_samples_split=grid_search.best_params_['min_samples_split'],\n",
        "                                    min_samples_leaf=grid_search.best_params_['min_samples_leaf'],\n",
        "                                    )\n",
        "# Make predictions using the test set\n",
        "y_pred = grid_search.predict(X_test)\n",
        "\n",
        "# Calculate accuracy score\n",
        "accuracy = accuracy_score(y_test, y_pred)\n",
        "print(\"Accuracy score: {:.6f}\".format(accuracy))\n",
        "\n",
        "# Calculate precision\n",
        "precision = precision_score(y_test, y_pred, average='weighted')\n",
        "print(\"Precision: {:.6f}\".format(precision))\n",
        "\n",
        "# Calculate recall\n",
        "recall = recall_score(y_test, y_pred, average='weighted')\n",
        "print(\"Recall: {:.6f}\".format(recall))\n",
        "\n",
        "# Calculate F1 score\n",
        "f1 = f1_score(y_test, y_pred, average='weighted')\n",
        "print(\"F1 score: {:.6f}\".format(f1))\n"
      ]
    },
    {
      "cell_type": "code",
      "source": [
        "from google.colab import drive\n",
        "drive.mount('/content/drive')"
      ],
      "metadata": {
        "colab": {
          "base_uri": "https://localhost:8080/"
        },
        "id": "Y8uQhtWj7wLl",
        "outputId": "074b5321-8899-4a37-f6b5-be83314a39d0"
      },
      "execution_count": null,
      "outputs": [
        {
          "output_type": "stream",
          "name": "stdout",
          "text": [
            "Mounted at /content/drive\n"
          ]
        }
      ]
    }
  ],
  "metadata": {
    "colab": {
      "provenance": [],
      "collapsed_sections": [
        "gH6Jn-d6SG-3",
        "2qnh00jYRzb0"
      ]
    },
    "kernelspec": {
      "display_name": "Python 3",
      "name": "python3"
    },
    "language_info": {
      "name": "python"
    }
  },
  "nbformat": 4,
  "nbformat_minor": 0
}