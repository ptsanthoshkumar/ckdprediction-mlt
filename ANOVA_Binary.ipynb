{
  "nbformat": 4,
  "nbformat_minor": 0,
  "metadata": {
    "colab": {
      "provenance": []
    },
    "kernelspec": {
      "name": "python3",
      "display_name": "Python 3"
    },
    "language_info": {
      "name": "python"
    }
  },
  "cells": [
    {
      "cell_type": "code",
      "source": [
        "import warnings\n",
        "warnings.filterwarnings('ignore')"
      ],
      "metadata": {
        "id": "-JPvDRRnC8N6"
      },
      "execution_count": null,
      "outputs": []
    },
    {
      "cell_type": "markdown",
      "source": [
        "# Preprocessing"
      ],
      "metadata": {
        "id": "iRQkIx-fDlVv"
      }
    },
    {
      "cell_type": "markdown",
      "source": [
        "# New Section"
      ],
      "metadata": {
        "id": "7QHhplW1ZChp"
      }
    },
    {
      "cell_type": "code",
      "source": [
        "import pandas as pd\n",
        "import numpy as np\n",
        "from sklearn.preprocessing import LabelEncoder, StandardScaler\n",
        "\n",
        "# Load the data\n",
        "df = pd.read_csv('/content/drive/MyDrive/Dataset Folder/ckdb.csv')\n",
        "\n",
        "# Replace '\\t?' values with NaN\n",
        "df = df.replace('\\t?', np.nan)\n",
        "\n",
        "# Convert numerical columns to float\n",
        "num_cols = ['age', 'bp', 'sg', 'al', 'su', 'bgr', 'bu', 'sc', 'sod', 'pot', 'hemo', 'pcv', 'wc', 'rc']\n",
        "df[num_cols] = df[num_cols].astype(float)\n",
        "\n",
        "# Fill missing values with median for numerical features\n",
        "df[num_cols] = df[num_cols].fillna(df[num_cols].median())\n",
        "\n",
        "# Fill missing values with mode for nominal features\n",
        "nom_cols = ['rbc', 'pc', 'pcc', 'ba', 'htn', 'dm', 'cad', 'appet', 'pe', 'ane']\n",
        "for col in nom_cols:\n",
        "    df[col] = df[col].fillna(df[col].mode()[0])\n",
        "\n",
        "# Convert nominal features to numerical using label encoding\n",
        "le = LabelEncoder()\n",
        "for col in nom_cols:\n",
        "    df[col] = le.fit_transform(df[col])\n",
        "\n",
        "# Normalize numerical features using z-score normalization\n",
        "scaler = StandardScaler()\n",
        "df[num_cols] = scaler.fit_transform(df[num_cols])\n",
        "\n",
        "# Rename the target column\n",
        "df = df.rename(columns={'classification': 'target'})\n"
      ],
      "metadata": {
        "id": "ypFcWZINC9SV"
      },
      "execution_count": null,
      "outputs": []
    },
    {
      "cell_type": "markdown",
      "source": [
        "# Decision tree with anova"
      ],
      "metadata": {
        "id": "wmTUmCMoD0I-"
      }
    },
    {
      "cell_type": "code",
      "execution_count": null,
      "metadata": {
        "id": "ePoxmCUUB3Xg",
        "colab": {
          "base_uri": "https://localhost:8080/"
        },
        "outputId": "dfb7297b-1370-4836-b18d-bd083b4db220"
      },
      "outputs": [
        {
          "output_type": "stream",
          "name": "stdout",
          "text": [
            "Selected features:  Index(['id', 'sg', 'al', 'hemo', 'pcv', 'rc', 'htn'], dtype='object')\n",
            "Best hyperparameters: {'criterion': 'gini', 'max_depth': 3, 'min_samples_leaf': 1, 'min_samples_split': 5}\n",
            "Accuracy score: 0.991667\n",
            "Precision: 0.991775\n",
            "Recall: 0.991667\n",
            "F1 score: 0.991646\n"
          ]
        }
      ],
      "source": [
        "from sklearn.feature_selection import SelectKBest, f_classif\n",
        "from sklearn.model_selection import train_test_split\n",
        "import pandas as pd\n",
        "import numpy as np\n",
        "from sklearn.preprocessing import LabelEncoder, StandardScaler\n",
        "from sklearn.tree import DecisionTreeClassifier\n",
        "from sklearn.metrics import classification_report, confusion_matrix\n",
        "from sklearn.model_selection import train_test_split\n",
        "from sklearn.model_selection import cross_val_score\n",
        "from sklearn.model_selection import train_test_split, GridSearchCV\n",
        "from sklearn.metrics import accuracy_score, precision_score, recall_score, f1_score\n",
        "# Separate features and target\n",
        "X = pd.DataFrame(df.drop('target', axis=1))\n",
        "y = pd.DataFrame(df['target'])\n",
        "\n",
        "# Split the data into training and testing sets\n",
        "X_train, X_test, y_train, y_test = train_test_split(X, y, test_size=0.3, random_state=42)\n",
        "\n",
        "# Perform ANOVA feature selection\n",
        "k_best = SelectKBest(score_func=f_classif, k=7)\n",
        "X_train_anova = k_best.fit_transform(X_train, y_train.values.ravel())\n",
        "\n",
        "# Print the selected features\n",
        "print(\"Selected features: \", X_train.columns[k_best.get_support()])\n",
        "\n",
        "# Initialize decision tree classifier\n",
        "dtc = DecisionTreeClassifier()\n",
        "\n",
        "# Define the grid of hyperparameters to search\n",
        "param_grid = {\n",
        "    'criterion': ['gini', 'entropy'],\n",
        "    'max_depth': [3, 5, 7, 10],\n",
        "    'min_samples_split': [5, 10, 15],\n",
        "    'min_samples_leaf': [1, 2, 4]\n",
        "}\n",
        "\n",
        "# Initialize grid search object\n",
        "grid_search = GridSearchCV(estimator=dtc, param_grid=param_grid, cv=5)\n",
        "\n",
        "# Fit grid search object to the data\n",
        "grid_search.fit(X_train_anova, y_train)\n",
        "\n",
        "# Print best hyperparameters\n",
        "print(\"Best hyperparameters:\", grid_search.best_params_)\n",
        "\n",
        "# Initialize decision tree classifier with best hyperparameters\n",
        "dtc = DecisionTreeClassifier(criterion=grid_search.best_params_['criterion'],\n",
        "                             max_depth=grid_search.best_params_['max_depth'],\n",
        "                             min_samples_split=grid_search.best_params_['min_samples_split'],\n",
        "                             min_samples_leaf=grid_search.best_params_['min_samples_leaf'])\n",
        "\n",
        "# Fit decision tree classifier with selected features\n",
        "dtc.fit(X_train_anova, y_train.values.ravel())\n",
        "\n",
        "# Make predictions using the test set\n",
        "X_test_anova = k_best.transform(X_test)\n",
        "y_pred = dtc.predict(X_test_anova)\n",
        "\n",
        "# Calculate accuracy score\n",
        "accuracy = accuracy_score(y_test, y_pred)\n",
        "print(\"Accuracy score: {:.6f}\".format(accuracy))\n",
        "\n",
        "# Calculate precision\n",
        "precision = precision_score(y_test, y_pred, average='weighted')\n",
        "print(\"Precision: {:.6f}\".format(precision))\n",
        "\n",
        "# Calculate recall\n",
        "recall = recall_score(y_test, y_pred, average='weighted')\n",
        "print(\"Recall: {:.6f}\".format(recall))\n",
        "\n",
        "# Calculate F1 score\n",
        "f1 = f1_score(y_test, y_pred, average='weighted')\n",
        "print(\"F1 score: {:.6f}\".format(f1))\n"
      ]
    },
    {
      "cell_type": "markdown",
      "source": [
        "#SVM with ANOVA"
      ],
      "metadata": {
        "id": "JZZTqDhEDe6k"
      }
    },
    {
      "cell_type": "code",
      "source": [
        "from sklearn.feature_selection import SelectKBest, f_classif\n",
        "from sklearn.pipeline import Pipeline\n",
        "from sklearn.svm import SVC\n",
        "from sklearn.model_selection import cross_validate\n",
        "# Perform ANOVA to select top k features\n",
        "k = 5\n",
        "anova = SelectKBest(score_func=f_classif, k=k)\n",
        "X_train_anova = anova.fit_transform(X_train, y_train.values.ravel())\n",
        "X_test_anova = anova.transform(X_test)\n",
        "\n",
        "# Train SVM classifier on selected features\n",
        "svm_pipeline_anova = Pipeline([\n",
        "    ('scaler', StandardScaler()),\n",
        "    ('svm', SVC())\n",
        "])\n",
        "\n",
        "svm_param_grid_anova = {\n",
        "    'svm__C': [10, 100],\n",
        "    'svm__gamma': [0.001, 0.01, 0.1, 1],\n",
        "    'svm__kernel': ['linear', 'rbf']\n",
        "}\n",
        "\n",
        "svm_grid_search_anova = GridSearchCV(svm_pipeline_anova, svm_param_grid_anova, cv=5)\n",
        "\n",
        "svm_grid_search_anova.fit(X_train_anova, y_train.values.ravel())\n",
        "\n",
        "print(\"Best hyperparameters for SVM with ANOVA:\", svm_grid_search_anova.best_params_)\n",
        "\n",
        "# Make predictions using the test set for SVM with ANOVA\n",
        "svm_y_pred_anova = svm_grid_search_anova.predict(X_test_anova)\n",
        "\n",
        "# Calculate accuracy score for SVM with ANOVA\n",
        "svm_accuracy_anova = accuracy_score(y_test, svm_y_pred_anova)\n",
        "print(\"SVM with ANOVA accuracy score: {:.6f}\".format(svm_accuracy_anova))\n",
        "\n",
        "# Calculate precision\n",
        "precision_anova = precision_score(y_test, svm_y_pred_anova, average='weighted')\n",
        "print(\"Precision: {:.6f}\".format(precision_anova))\n",
        "\n",
        "# Calculate recall\n",
        "recall_anova = recall_score(y_test, svm_y_pred_anova, average='weighted')\n",
        "print(\"Recall: {:.6f}\".format(recall_anova))\n",
        "\n",
        "# Calculate F1 score\n",
        "f1_anova = f1_score(y_test, svm_y_pred_anova, average='weighted')\n",
        "print(\"F1 score: {:.6f}\".format(f1_anova))\n"
      ],
      "metadata": {
        "colab": {
          "base_uri": "https://localhost:8080/"
        },
        "id": "x6jtf4GvENuS",
        "outputId": "67281992-15f9-4ac2-ecaf-5bec843b4289"
      },
      "execution_count": null,
      "outputs": [
        {
          "output_type": "stream",
          "name": "stdout",
          "text": [
            "Best hyperparameters for SVM with ANOVA: {'svm__C': 10, 'svm__gamma': 0.001, 'svm__kernel': 'rbf'}\n",
            "SVM with ANOVA accuracy score: 0.991667\n",
            "Precision: 0.991852\n",
            "Recall: 0.991667\n",
            "F1 score: 0.991686\n"
          ]
        }
      ]
    },
    {
      "cell_type": "markdown",
      "source": [
        "# Random Forest with ANOVA"
      ],
      "metadata": {
        "id": "93ob7uG9KeYH"
      }
    },
    {
      "cell_type": "code",
      "source": [
        "import pandas as pd\n",
        "import numpy as np\n",
        "from sklearn.ensemble import RandomForestClassifier\n",
        "from sklearn.feature_selection import SelectKBest, f_classif\n",
        "from sklearn.model_selection import train_test_split, GridSearchCV\n",
        "from sklearn.metrics import accuracy_score, precision_score, recall_score, f1_score\n",
        "\n",
        "\n",
        "# Perform feature selection using ANOVA F-test\n",
        "selector = SelectKBest(f_classif, k=5)\n",
        "X_anova = selector.fit_transform(X, y)\n",
        "\n",
        "# Print the selected features\n",
        "selected_features = X.columns[selector.get_support()]\n",
        "print(\"Selected features:\", list(selected_features))\n",
        "\n",
        "# Split the data into training and testing sets\n",
        "X_train, X_test, y_train, y_test = train_test_split(X_anova, y, test_size=0.3)\n",
        "sc=StandardScaler()\n",
        "X_train=sc.fit_transform(X_train)\n",
        "X_test=sc.fit_transform(X_test)\n",
        "# Define the grid of hyperparameters to search\n",
        "param_grid = {\n",
        "    'n_estimators': [100, 200, 300],\n",
        "    'max_depth': [5, 10, 15, 20],\n",
        "    'min_samples_split': [2, 5, 10],\n",
        "    'min_samples_leaf': [1, 2, 4]\n",
        "}\n",
        "\n",
        "# Initialize random forest classifier\n",
        "rfc = RandomForestClassifier()\n",
        "\n",
        "# Initialize grid search object\n",
        "grid_search = GridSearchCV(estimator=rfc, param_grid=param_grid, cv=5)\n",
        "\n",
        "# Fit grid search object to the data\n",
        "grid_search.fit(X_train, y_train)\n",
        "\n",
        "# Print best hyperparameters\n",
        "print(\"Best hyperparameters:\", grid_search.best_params_)\n",
        "\n",
        "# Initialize random forest classifier with best hyperparameters\n",
        "rfc_tuned = RandomForestClassifier(n_estimators=grid_search.best_params_['n_estimators'],\n",
        "                                    max_depth=grid_search.best_params_['max_depth'],\n",
        "                                    min_samples_split=grid_search.best_params_['min_samples_split'],\n",
        "                                    min_samples_leaf=grid_search.best_params_['min_samples_leaf'],\n",
        "                                    )\n",
        "\n",
        "# Fit the classifier to the data\n",
        "rfc_tuned.fit(X_train, y_train)\n",
        "\n",
        "# Calculate accuracy score on test data\n",
        "test_accuracy = rfc_tuned.score(X_test, y_test)\n",
        "\n",
        "# Test the model\n",
        "y_pred = rfc_tuned.predict(X_test)\n",
        "\n",
        "# Print accuracy score, precision, recall and F1 score\n",
        "print(\"Accuracy score:\", accuracy_score(y_test, y_pred))\n",
        "print(\"Precision:\", precision_score(y_test, y_pred, average='macro'))\n",
        "print(\"Recall:\", recall_score(y_test, y_pred, average='macro'))\n",
        "print(\"F1 score:\", f1_score(y_test, y_pred, average='macro'))\n"
      ],
      "metadata": {
        "colab": {
          "base_uri": "https://localhost:8080/"
        },
        "id": "dLHCRTWwKl5g",
        "outputId": "ddc93ca7-5cef-41b1-b54c-965452629596"
      },
      "execution_count": null,
      "outputs": [
        {
          "output_type": "stream",
          "name": "stdout",
          "text": [
            "Selected features: ['id', 'sg', 'hemo', 'pcv', 'htn']\n",
            "Best hyperparameters: {'max_depth': 5, 'min_samples_leaf': 1, 'min_samples_split': 2, 'n_estimators': 100}\n",
            "Accuracy score: 0.9916666666666667\n",
            "Precision: 0.9878048780487805\n",
            "Recall: 0.99375\n",
            "F1 score: 0.9906825064057768\n"
          ]
        }
      ]
    },
    {
      "cell_type": "code",
      "source": [
        "from google.colab import drive\n",
        "drive.mount('/content/drive')"
      ],
      "metadata": {
        "colab": {
          "base_uri": "https://localhost:8080/"
        },
        "id": "jbLlsCVG8Cmt",
        "outputId": "b0dca330-56b0-499f-a510-7c379e70812a"
      },
      "execution_count": null,
      "outputs": [
        {
          "output_type": "stream",
          "name": "stdout",
          "text": [
            "Drive already mounted at /content/drive; to attempt to forcibly remount, call drive.mount(\"/content/drive\", force_remount=True).\n"
          ]
        }
      ]
    }
  ]
}